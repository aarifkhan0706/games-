{
 "cells": [
  {
   "cell_type": "code",
   "execution_count": 1,
   "metadata": {},
   "outputs": [],
   "source": [
    "################################################ BONG GAME ################################################################\n",
    "import turtle"
   ]
  },
  {
   "cell_type": "code",
   "execution_count": 2,
   "metadata": {},
   "outputs": [],
   "source": [
    "wn= turtle.Screen()#make a screen"
   ]
  },
  {
   "cell_type": "code",
   "execution_count": 3,
   "metadata": {},
   "outputs": [],
   "source": [
    "wn.title(\"Pong Game by Aarif Khan\")"
   ]
  },
  {
   "cell_type": "code",
   "execution_count": 4,
   "metadata": {},
   "outputs": [],
   "source": [
    "wn.bgcolor(\"black\")#giving background a black color"
   ]
  },
  {
   "cell_type": "code",
   "execution_count": 5,
   "metadata": {},
   "outputs": [],
   "source": [
    "wn.setup(width=800, height=600)#setting up height and width\n",
    "wn.tracer(0)\n",
    "#score variables\n",
    "score_a= 0\n",
    "score_b= 0"
   ]
  },
  {
   "cell_type": "code",
   "execution_count": 6,
   "metadata": {},
   "outputs": [],
   "source": [
    "#paddle A\n",
    "paddle_a = turtle.Turtle()\n",
    "paddle_a.speed(0)# not for paddle but for the animation\n",
    "paddle_a.shape(\"square\")\n",
    "paddle_a.color(\"white\")\n",
    "paddle_a.shapesize(stretch_wid=5, stretch_len=1)\n",
    "paddle_a.penup()\n",
    "paddle_a.goto(-350,0)\n",
    "#paddle B\n",
    "paddle_b = turtle.Turtle()\n",
    "paddle_b.speed(0)# not for paddle but for the animation\n",
    "paddle_b.shape(\"square\")\n",
    "paddle_b.color(\"white\")\n",
    "paddle_b.shapesize(stretch_wid=5, stretch_len=1)\n",
    "paddle_b.penup()\n",
    "paddle_b.goto(350,0)\n",
    "#ball\n",
    "ball = turtle.Turtle()\n",
    "ball.speed(0)# not for paddle but for the animation\n",
    "ball.shape(\"square\")\n",
    "ball.color(\"white\")\n",
    "ball.penup()\n",
    "ball.goto(0,0)\n",
    "ball.dx = 0.2\n",
    "ball.dy = -0.2\n",
    "#pen\n",
    "pen = turtle.Turtle()\n",
    "pen.speed(0)\n",
    "pen.color(\"white\")\n",
    "pen.penup()\n",
    "pen.hideturtle()\n",
    "pen.goto(0, 260)\n",
    "pen.write(\"Player A : 0 Player B:0\",align=\"center\",font=(\"Courier\", 24, \"normal\"))"
   ]
  },
  {
   "cell_type": "code",
   "execution_count": 7,
   "metadata": {},
   "outputs": [],
   "source": [
    "#function\n",
    "def paddle_a_up():\n",
    "    y = paddle_a.ycor()\n",
    "    y += 20 \n",
    "    paddle_a.sety(y)\n",
    "def paddle_a_down():\n",
    "    y = paddle_a.ycor()\n",
    "    y -= 20 \n",
    "    paddle_a.sety(y)\n",
    "def paddle_b_up():\n",
    "    y = paddle_b.ycor()\n",
    "    y += 20 \n",
    "    paddle_b.sety(y)\n",
    "def paddle_b_down():\n",
    "    y = paddle_b.ycor()\n",
    "    y -= 20 \n",
    "    paddle_b.sety(y)\n",
    "\n",
    "#keyboard binding\n",
    "wn.listen()\n",
    "wn.onkeypress(paddle_a_up,\"w\")\n",
    "wn.onkeypress(paddle_a_down,\"s\")\n",
    "wn.onkeypress(paddle_b_up,\"Up\")\n",
    "wn.onkeypress(paddle_b_down,\"Down\")\n"
   ]
  },
  {
   "cell_type": "code",
   "execution_count": 8,
   "metadata": {
    "scrolled": true
   },
   
   "source": [
    "#main game loop\n",
    "while True:\n",
    "    wn.update()\n",
    "    # Move the ball\n",
    "    ball.setx(ball.xcor() + ball.dx)\n",
    "    ball.sety(ball.ycor() + ball.dy)\n",
    "    \n",
    "    # Border checking\n",
    "    if ball.ycor() > 290 :\n",
    "        ball.sety(290)\n",
    "        ball.dy *= -1\n",
    "    \n",
    "    if ball.ycor() < -290 :\n",
    "        ball.sety(-290)\n",
    "        ball.dy *= -1\n",
    "    \n",
    "    if ball.xcor() > 390 :\n",
    "        ball.goto(0,0)\n",
    "        ball.dx *= -1\n",
    "        score_a += 1\n",
    "        pen.clear()\n",
    "        pen.write(\"Player A : {} Player B: {}\".format(score_a,score_b),align=\"center\",font=(\"Courier\", 24, \"normal\"))\n",
    "        \n",
    "    if ball.xcor() < -390 :\n",
    "        ball.goto(0,0)\n",
    "        ball.dx *= -1\n",
    "        score_b += 1\n",
    "        pen.clear()\n",
    "        pen.write(\"Player A : {} Player B: {}\".format(score_a,score_b),align=\"center\",font=(\"Courier\", 24, \"normal\"))\n",
    "    # Paddle and ball collisions\n",
    "    if (ball.xcor() > 340 and ball.xcor() < 350) and (ball.ycor() < paddle_b.ycor()+40 and ball.ycor()> paddle_b.ycor()-40):\n",
    "        ball.setx(340)\n",
    "        ball.dx *= -1\n",
    "    if (ball.xcor() < -340 and ball.xcor() > -350) and (ball.ycor() < paddle_a.ycor()+40 and ball.ycor()> paddle_a.ycor()-40):\n",
    "        ball.setx(-340)\n",
    "        ball.dx *= -1"
   ]
  },
  {
   "cell_type": "code",
   "execution_count": null,
   "metadata": {},
   "outputs": [],
   "source": []
  }
 ],
 "metadata": {
  "kernelspec": {
   "display_name": "Python 3",
   "language": "python",
   "name": "python3"
  },
  "language_info": {
   "codemirror_mode": {
    "name": "ipython",
    "version": 3
   },
   "file_extension": ".py",
   "mimetype": "text/x-python",
   "name": "python",
   "nbconvert_exporter": "python",
   "pygments_lexer": "ipython3",
   "version": "3.5.6"
  }
 },
 "nbformat": 4,
 "nbformat_minor": 2
}
